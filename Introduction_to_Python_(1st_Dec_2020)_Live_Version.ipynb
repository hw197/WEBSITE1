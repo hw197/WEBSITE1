{
  "nbformat": 4,
  "nbformat_minor": 0,
  "metadata": {
    "colab": {
      "name": "Introduction to Python (1st Dec 2020) Live Version",
      "provenance": [],
      "collapsed_sections": [],
      "include_colab_link": true
    },
    "kernelspec": {
      "name": "python3",
      "display_name": "Python 3"
    }
  },
  "cells": [
    {
      "cell_type": "markdown",
      "metadata": {
        "id": "view-in-github",
        "colab_type": "text"
      },
      "source": [
        "<a href=\"https://colab.research.google.com/github/hw197/WEBSITE1/blob/master/Introduction_to_Python_(1st_Dec_2020)_Live_Version.ipynb\" target=\"_parent\"><img src=\"https://colab.research.google.com/assets/colab-badge.svg\" alt=\"Open In Colab\"/></a>"
      ]
    },
    {
      "cell_type": "markdown",
      "metadata": {
        "id": "QXF06CA3kxAO"
      },
      "source": [
        "![alt text](https://img.evbuc.com/https%3A%2F%2Fcdn.evbuc.com%2Fimages%2F117818001%2F64322285113%2F1%2Foriginal.20191112-082435?w=800&auto=format%2Ccompress&q=75&sharp=10&rect=0%2C96%2C824%2C412&s=93efdf9adff8cd686a0caefb29683512)\n"
      ]
    },
    {
      "cell_type": "markdown",
      "metadata": {
        "id": "vZ4wGjVNletL"
      },
      "source": [
        "<a href=\"https://open.spotify.com/playlist/1Q4PwaacytmRMVrmZnUFlT?si=BlIVIlLKQFKu80ZZ6r1zZw\" target=\"_blank\"><img src=\"https://www.scdn.co/i/_global/open-graph-default.png\" alt=\"drawing\" width=\"250\"/></a><br>\n",
        "Click <a href=\"https://open.spotify.com/playlist/1Q4PwaacytmRMVrmZnUFlT?si=BlIVIlLKQFKu80ZZ6r1zZw\" target=\"_blank\">here</a> to contribute to the event's Spotify playlist."
      ]
    },
    {
      "cell_type": "markdown",
      "metadata": {
        "id": "EhfG4bH1lmhD"
      },
      "source": [
        "<a href=\"https://padlet.com/hipyliv/vmtszycsl6psd8g9\" target=\"_blank\"><img src=\"data:image/png;base64,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\" alt=\"drawing\" width=\"250\"/></a><br>\n",
        "\n",
        "Click <a href=\"https://padlet.com/hipyliv/vmtszycsl6psd8g9\" target=\"_blank\">here</a> to contribute to the event's Padlet."
      ]
    },
    {
      "cell_type": "markdown",
      "metadata": {
        "id": "doKM0SvIlzsC"
      },
      "source": [
        "<a href=\"https://join.slack.com/t/hipyworkspace/shared_invite/zt-isqhy282-N_~XYGUmwAFbLw75KAfzaQ\" target=\"_blank\"><img src=\"https://assets.stickpng.com/images/5cb480b85f1b6d3fbadece78.png\" alt=\"drawing\" width=\"250\"/></a><br>\n",
        "\n",
        "Click <a href=\"https://join.slack.com/t/hipyworkspace/shared_invite/zt-isqhy282-N_~XYGUmwAFbLw75KAfzaQ\" target=\"_blank\">here</a> to join the HiPy Slack Workspace."
      ]
    },
    {
      "cell_type": "markdown",
      "metadata": {
        "id": "r1lUEfoiYpcK"
      },
      "source": [
        "# Tech Nomads\n",
        "\n",
        "Tech Nomads is a monthly meetup where you can connect with others interested in programming and the tech industry. The meetups will give you an opportunity network, share ideas and learn from each other.\n",
        "\n",
        "\n",
        "<blockquote class=\"twitter-tweet\"><p lang=\"en\" dir=\"ltr\">👋 WE&#39;RE BACK!<br><br>After an extended break during 2020 we are kicking off again on Tuesday 1st Dec from 5pm following <a href=\"https://twitter.com/hipyliv?ref_src=twsrc%5Etfw\">@hipyliv</a>!<br><br>We will be having an open discussion on zoom about what *you* want to see in our upcoming events!<br><br>Come join us, find out more and have your say! <a href=\"https://t.co/oalrEQfPsp\">pic.twitter.com/oalrEQfPsp</a></p>&mdash; Tech Nomads (@TechNomads) <a href=\"https://twitter.com/TechNomads/status/1332720327604973568?ref_src=twsrc%5Etfw\">November 28, 2020</a></blockquote> <script async src=\"https://platform.twitter.com/widgets.js\" charset=\"utf-8\"></script>\n",
        "\n"
      ]
    },
    {
      "cell_type": "markdown",
      "metadata": {
        "id": "mUS79WC4Zb3M"
      },
      "source": [
        "# Your Beekeepers\n",
        "\n",
        "Today's Beekeepers are\n",
        "\n",
        "+  [Rob Treharne](https://twitter.com/robtreharne)\n",
        "+  [Sam Ball](https://twitter.com/stmball)\n",
        "+  [Laura Jones](https://twitter.com/LMJ0NE5)\n",
        "\n",
        "Would you like to become a HiPy Beekeeper? Get involved with this amazing, grass roots, collaborative initiative and have something fantastic to put on your CV. Get in touch with Rob via the [HiPy Slack Workspace](https://join.slack.com/t/hipyworkspace/shared_invite/zt-isqhy282-N_~XYGUmwAFbLw75KAfzaQ)."
      ]
    },
    {
      "cell_type": "markdown",
      "metadata": {
        "id": "mOkDqcz4qeoF"
      },
      "source": [
        "# Aims and objectives\n",
        "\n",
        "\n",
        "*   Start writing Python code as quickly as humanly possible.\n",
        "*   Meet some like minded people.\n",
        "*   Have fun."
      ]
    },
    {
      "cell_type": "markdown",
      "metadata": {
        "id": "AVAdK6ye_UYa"
      },
      "source": [
        "# HiPy Resources\n",
        "\n",
        "You can find all our amazing resources at:\n",
        "\n",
        "https://github.com/HiPyLiv/HiPyProject"
      ]
    },
    {
      "cell_type": "markdown",
      "metadata": {
        "id": "_vdf-Wffq3eC"
      },
      "source": [
        "# Why are we using Google Colab?\n",
        "\n",
        "There are so many ways that you can write and compile Python. Google Colab is an environment very similar to a Jupyter Notebook. It allows you to run lines of Python in cells which is great for noodling around. \n",
        "\n",
        "For the purposes of this webinar Colab is ideal because no install is required. We can get you all coding along in moments using your web-browsers. Simply go to https://colab.research.google.com.\n",
        "\n",
        "If you want to compile and run Python locally on your PC/laptop then we recommend that you install the Anaconda distribution. Go to https://anaconda.com."
      ]
    },
    {
      "cell_type": "markdown",
      "metadata": {
        "id": "9wV_JcQKrj2P"
      },
      "source": [
        "# Warm up\n",
        "\n",
        "Right, you should be ready to dive in at this point. Try and complete the following tasks. Make sure you use Google!"
      ]
    },
    {
      "cell_type": "code",
      "metadata": {
        "id": "QoYBJORzr2ie",
        "colab": {
          "base_uri": "https://localhost:8080/"
        },
        "outputId": "ac67dd03-7f8f-4b0a-8023-521897a66c05"
      },
      "source": [
        "# print the words \"Hello Python\"\n",
        "print('Hello Python')\n"
      ],
      "execution_count": null,
      "outputs": [
        {
          "output_type": "stream",
          "text": [
            "Hello Python\n"
          ],
          "name": "stdout"
        }
      ]
    },
    {
      "cell_type": "code",
      "metadata": {
        "id": "MEj4gODIr6g5",
        "colab": {
          "base_uri": "https://localhost:8080/"
        },
        "outputId": "e84ab8d9-ead3-41f2-a531-8b448e0ad3c3"
      },
      "source": [
        "# assign the string \"Hello Python\" to a variable called string\n",
        "string = \"Hello World\"\n",
        "print(string)"
      ],
      "execution_count": null,
      "outputs": [
        {
          "output_type": "stream",
          "text": [
            "Hello World\n"
          ],
          "name": "stdout"
        }
      ]
    },
    {
      "cell_type": "code",
      "metadata": {
        "id": "WtrDk1D_sIvz",
        "colab": {
          "base_uri": "https://localhost:8080/"
        },
        "outputId": "f85a1199-678e-433c-f5ba-32854d6e9179"
      },
      "source": [
        "# using the variable you have just created, just print the word \"Hello\"\n",
        "# (Hint: Google \"Python string slicing\")\n",
        "string[:5]\n",
        "string.split()"
      ],
      "execution_count": null,
      "outputs": [
        {
          "output_type": "execute_result",
          "data": {
            "text/plain": [
              "['Hello', 'World']"
            ]
          },
          "metadata": {
            "tags": []
          },
          "execution_count": 40
        }
      ]
    },
    {
      "cell_type": "code",
      "metadata": {
        "colab": {
          "base_uri": "https://localhost:8080/"
        },
        "id": "1yKeXqxT5_9h",
        "outputId": "f69ce25f-9ab5-4c30-fa6d-afde347a8432"
      },
      "source": [
        "list_of_no = range(1000, 2000, 10)\n",
        "print(list(list_of_no))"
      ],
      "execution_count": null,
      "outputs": [
        {
          "output_type": "stream",
          "text": [
            "[1000, 1010, 1020, 1030, 1040, 1050, 1060, 1070, 1080, 1090, 1100, 1110, 1120, 1130, 1140, 1150, 1160, 1170, 1180, 1190, 1200, 1210, 1220, 1230, 1240, 1250, 1260, 1270, 1280, 1290, 1300, 1310, 1320, 1330, 1340, 1350, 1360, 1370, 1380, 1390, 1400, 1410, 1420, 1430, 1440, 1450, 1460, 1470, 1480, 1490, 1500, 1510, 1520, 1530, 1540, 1550, 1560, 1570, 1580, 1590, 1600, 1610, 1620, 1630, 1640, 1650, 1660, 1670, 1680, 1690, 1700, 1710, 1720, 1730, 1740, 1750, 1760, 1770, 1780, 1790, 1800, 1810, 1820, 1830, 1840, 1850, 1860, 1870, 1880, 1890, 1900, 1910, 1920, 1930, 1940, 1950, 1960, 1970, 1980, 1990]\n"
          ],
          "name": "stdout"
        }
      ]
    },
    {
      "cell_type": "code",
      "metadata": {
        "id": "2PyqUa2GseZi",
        "colab": {
          "base_uri": "https://localhost:8080/",
          "height": 35
        },
        "outputId": "ff997eb3-b4ca-423e-aaaa-db6d46408160"
      },
      "source": [
        "# reverse your string\n",
        "# (Hint: Google \"Python reverse string\")\n",
        "string[::2]"
      ],
      "execution_count": null,
      "outputs": [
        {
          "output_type": "execute_result",
          "data": {
            "application/vnd.google.colaboratory.intrinsic+json": {
              "type": "string"
            },
            "text/plain": [
              "'HloWrd'"
            ]
          },
          "metadata": {
            "tags": []
          },
          "execution_count": 52
        }
      ]
    },
    {
      "cell_type": "code",
      "metadata": {
        "id": "7DpzoOxgsjVx"
      },
      "source": [
        "# create a function that takes a string as an input and returns the reversed string\n",
        "def reverse_string(string):\n",
        "  return string[::-1]"
      ],
      "execution_count": null,
      "outputs": []
    },
    {
      "cell_type": "code",
      "metadata": {
        "colab": {
          "base_uri": "https://localhost:8080/",
          "height": 35
        },
        "id": "_tgtk2cf7mzm",
        "outputId": "2216dce5-1aa6-46e9-b77e-262baa4b5023"
      },
      "source": [
        "reverse_string(\"The quick brown fox jumped over the lazy dog's head\")"
      ],
      "execution_count": null,
      "outputs": [
        {
          "output_type": "execute_result",
          "data": {
            "application/vnd.google.colaboratory.intrinsic+json": {
              "type": "string"
            },
            "text/plain": [
              "\"daeh s'god yzal eht revo depmuj xof nworb kciuq ehT\""
            ]
          },
          "metadata": {
            "tags": []
          },
          "execution_count": 54
        }
      ]
    },
    {
      "cell_type": "code",
      "metadata": {
        "id": "anNEm-KssyDq",
        "colab": {
          "base_uri": "https://localhost:8080/"
        },
        "outputId": "c3ad1c9c-6ad7-46ea-e372-f836a077189d"
      },
      "source": [
        "# find the index (i.e. the location) of 'W' character in your string\n",
        "string.index('W')"
      ],
      "execution_count": null,
      "outputs": [
        {
          "output_type": "execute_result",
          "data": {
            "text/plain": [
              "6"
            ]
          },
          "metadata": {
            "tags": []
          },
          "execution_count": 55
        }
      ]
    },
    {
      "cell_type": "markdown",
      "metadata": {
        "id": "kDsAa3IMtNRx"
      },
      "source": [
        "# The Eagle has landed\n",
        "\n",
        "You have received the following secret message:\n",
        "\n",
        "'18 12 14 10 4 26 12 4 26 0 26 10 8 15 15 4 17 26 8 11 11 26 1 4 26 1 0 2 10 26 5 14 17 26 1 17 4 0 10 5 0 18 19'\n",
        "\n",
        "But what does it mean? Maybe each number corresponds to a letter in the alphabet?\n",
        "\n",
        "Can you crack the code?"
      ]
    },
    {
      "cell_type": "code",
      "metadata": {
        "id": "22eKB6tpuZkn"
      },
      "source": [
        "# Let's start by trying to encrypt/decrypt our own messages\n",
        "secret_message = \"The Eagle has landed\""
      ],
      "execution_count": null,
      "outputs": []
    },
    {
      "cell_type": "code",
      "metadata": {
        "id": "M1caE80eupcA"
      },
      "source": [
        "# A super simple code would be just to replace all the letters in the secret_messag with a number representing their positions in the alphabet\n",
        "# Lets define a simple key which is just a string containing all the letters of the alphabet, in order (plus the space character \" \")\n",
        "key = 'abcdefghijklmnopqrstuvwxyz '"
      ],
      "execution_count": null,
      "outputs": []
    },
    {
      "cell_type": "code",
      "metadata": {
        "id": "JOVZAqqQvJjY",
        "colab": {
          "base_uri": "https://localhost:8080/",
          "height": 35
        },
        "outputId": "90dcf8aa-d511-4cdc-c962-64c6f40f49a3"
      },
      "source": [
        "# Convert all the characters in your secret_message to lower case\n",
        "secret_message = secret_message.lower()\n",
        "secret_message"
      ],
      "execution_count": null,
      "outputs": [
        {
          "output_type": "execute_result",
          "data": {
            "application/vnd.google.colaboratory.intrinsic+json": {
              "type": "string"
            },
            "text/plain": [
              "'the eagle has landed'"
            ]
          },
          "metadata": {
            "tags": []
          },
          "execution_count": 57
        }
      ]
    },
    {
      "cell_type": "code",
      "metadata": {
        "id": "MQ6KyCoYvZmS",
        "colab": {
          "base_uri": "https://localhost:8080/"
        },
        "outputId": "afae2e5d-025f-4067-dc8d-22069a8081a9"
      },
      "source": [
        "# Loop through the secret_message and print out the index of each character in our key\n",
        "# (E.g. the first character of our secret_message, \"t\", has a key index of 19)\n",
        "for letter in secret_message:\n",
        "  print(letter, key.index(letter))"
      ],
      "execution_count": null,
      "outputs": [
        {
          "output_type": "stream",
          "text": [
            "t 19\n",
            "h 7\n",
            "e 4\n",
            "  26\n",
            "e 4\n",
            "a 0\n",
            "g 6\n",
            "l 11\n",
            "e 4\n",
            "  26\n",
            "h 7\n",
            "a 0\n",
            "s 18\n",
            "  26\n",
            "l 11\n",
            "a 0\n",
            "n 13\n",
            "d 3\n",
            "e 4\n",
            "d 3\n"
          ],
          "name": "stdout"
        }
      ]
    },
    {
      "cell_type": "code",
      "metadata": {
        "id": "3VZ7JjIJvyvi"
      },
      "source": [
        "# Create an empty list variable called encrypted list and add a list of numbers to it that correspond to the key indexes of your secret_message\n",
        "encrypted_list = []\n",
        "for letter in secret_message:\n",
        "  encrypted_list.append(key.index(letter))"
      ],
      "execution_count": null,
      "outputs": []
    },
    {
      "cell_type": "code",
      "metadata": {
        "colab": {
          "base_uri": "https://localhost:8080/"
        },
        "id": "xmKdy0IH_2cH",
        "outputId": "d5f43e67-960a-4244-8051-4f2b83a97797"
      },
      "source": [
        "encrypted_list"
      ],
      "execution_count": null,
      "outputs": [
        {
          "output_type": "execute_result",
          "data": {
            "text/plain": [
              "[19, 7, 4, 26, 4, 0, 6, 11, 4, 26, 7, 0, 18, 26, 11, 0, 13, 3, 4, 3]"
            ]
          },
          "metadata": {
            "tags": []
          },
          "execution_count": 65
        }
      ]
    },
    {
      "cell_type": "code",
      "metadata": {
        "id": "_CCGtheww2Eq"
      },
      "source": [
        "# Turn this encrypted list into an encrypted string called \"encrypted_message\"\n",
        "# (E.g. \"19 7 4 ...\")\n",
        "# Hint: Google \"convert list to string\"\n"
      ],
      "execution_count": null,
      "outputs": []
    },
    {
      "cell_type": "code",
      "metadata": {
        "id": "0MeJnvUbxSXL"
      },
      "source": [
        "# There's a quicker way to do this with a single line of code ..."
      ],
      "execution_count": null,
      "outputs": []
    },
    {
      "cell_type": "code",
      "metadata": {
        "id": "3rb4Xs_3yFRj"
      },
      "source": [
        "# How about decrypting your message?\n",
        "\n",
        "# First convert your encrypted message back to a list\n",
        "\n",
        "# Then loop through the list and use your alphabet key to translate\n"
      ],
      "execution_count": null,
      "outputs": []
    },
    {
      "cell_type": "code",
      "metadata": {
        "id": "ZNY5AaGXydva"
      },
      "source": [
        "# Here's the quick way ..."
      ],
      "execution_count": null,
      "outputs": []
    },
    {
      "cell_type": "code",
      "metadata": {
        "id": "96wV5pd105PD"
      },
      "source": [
        "# can you turn your code into two separate functions that encrypt and decrypt messages?\n"
      ],
      "execution_count": null,
      "outputs": []
    },
    {
      "cell_type": "code",
      "metadata": {
        "id": "NpeX9VA59CR0"
      },
      "source": [
        "# Now decrypt the secret message at the start of this section"
      ],
      "execution_count": null,
      "outputs": []
    },
    {
      "cell_type": "markdown",
      "metadata": {
        "id": "3A40kV1K-ZEh"
      },
      "source": [
        "## Challenge\n",
        "\n",
        "Create your own secret messages and post them at the Padlet for other people to decipher!\n",
        "\n",
        "<a href=\"https://padlet.com/hipyliv/vmtszycsl6psd8g9\" target=\"_blank\"><img src=\"data:image/png;base64,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\" alt=\"drawing\" width=\"250\"/></a><br>\n",
        "\n",
        "Click <a href=\"https://padlet.com/hipyliv/vmtszycsl6psd8g9\" target=\"_blank\">here</a> to contribute to the event's Padlet."
      ]
    },
    {
      "cell_type": "markdown",
      "metadata": {
        "id": "LH-gaeac6A5F"
      },
      "source": [
        "## Competition!\n",
        "\n",
        "You have received the following secret message:\n",
        "\n",
        "*etqlaqcd zlht ldmjdluelomzelnqlp zqldt fxplz eluzeqccfaeletqlaqcd zlp uzslue*\n",
        "\n",
        "But what does it mean.\n",
        "\n",
        "First person to crack this code wins the following prize:\n",
        "\n",
        "https://www.amazon.co.uk/Eat-That-Frog-Important-Things/dp/1444765426/ref=sr_1_1?dchild=1&keywords=brian+tracy+eat+that+frog&qid=1606820136&s=books&sr=1-1\n",
        "\n"
      ]
    },
    {
      "cell_type": "markdown",
      "metadata": {
        "id": "rbXns_KMUsFG"
      },
      "source": [
        "# Our Next Event!\n",
        "\n",
        "![alt text](https://img.evbuc.com/https%3A%2F%2Fcdn.evbuc.com%2Fimages%2F119139087%2F64322285113%2F1%2Foriginal.20200619-092913?w=800&auto=format%2Ccompress&q=75&sharp=10&rect=0%2C0%2C1414%2C707&s=61bac1d487323039cc8bd4c941463b75)\n",
        "\n",
        "\n",
        "## **Tues 12 Jan 2021. 3 - 5pm.**\n",
        "\n",
        "[Register Now!](https://www.eventbrite.co.uk/e/exploring-the-gender-pay-gap-with-python-tickets-131181656867)\n",
        "\n",
        "**An absolute beginner's introduction to Python for Data Science. Delivered through the lens of a real, publicly available dataset.**\n",
        "\n",
        "\n",
        "Code along with HiPy in this relaxed, informal, interactive webinar.\n",
        "\n",
        "You will learn:\n",
        "\n",
        "+ How to start coding at lightning speed with Colab\n",
        "+ How to read and write data from files\n",
        "+ How to filter, sort and process data\n",
        "+ How to visualise your data\n",
        "+ All through the lens of the UK's Gender Pay Gap dataset.\n",
        "\n",
        "You will answer the following questions using Python:\n",
        "\n",
        "+ Which Universities have the highest/lowest Gender Pay Gaps?\n",
        "+ How does the Gender Pay Gap vary with sector?\n",
        "+Does it make a difference if the person in charge of a company/institution is male or female?\n",
        "\n",
        "\n"
      ]
    },
    {
      "cell_type": "markdown",
      "metadata": {
        "id": "_Sgfz9Q__t-B"
      },
      "source": [
        "# Fizz Buzz"
      ]
    },
    {
      "cell_type": "markdown",
      "metadata": {
        "id": "IMVxFXYuFA43"
      },
      "source": [
        "For a long time, Fizz Buzz was the gold standard of interview questions to test if you knew how to code. The question was as follows:\n",
        "\n",
        "*Write a program that prints the numbers 1 to 100, but if the number is divisible by 3, it instead prints \"Fizz\". If the number is divisible by 5, it instead prints \"Buzz\". If the number is divisible by both 3 and 5, it prints \"FizzBuzz\"*\n",
        "\n",
        "Let's take a look at a number of ways of solving this problem, and some ways we can make it more interesting.\n",
        "\n",
        "Let's look at how we would solve the problem in the traditional way:"
      ]
    },
    {
      "cell_type": "code",
      "metadata": {
        "id": "PoW2bcMu_DHc"
      },
      "source": [
        "# First, let's set up a for loop to run from the nubmers 1 to 100\n",
        "# Note that range stops BEFORE the second argument!\n",
        "\n",
        "    # Now let's check for divisibilty\n",
        "    # We check for the most specific case first - otherwise we'll short ciruit\n",
        "    # the control flow (15 will print \"Buzz\")\n",
        "\n",
        "    \n",
        "    # Now check for the divisibilty by 5 or 3. \"elif\" stands for \"else if\"\n",
        "\n",
        "    \n",
        "    # Finally if no conditions are met, just print out the number\n"
      ],
      "execution_count": null,
      "outputs": []
    },
    {
      "cell_type": "markdown",
      "metadata": {
        "id": "H7b6LRpWG5YH"
      },
      "source": [
        "Great! However we can already do some improvements. One of the most important programming concepts is D.R.Y - Don't Repeat Yourself - and we're repeating ourselves quite a lot in this code; every time we check for divisibility we're doing the same operation over and over again, and we can also condense the 3 and 5 divisibilty to divisibility by 15 (these are mathematically equivilent conditions!).\n",
        "\n",
        "Let's try rewriting our code using these two ideas:"
      ]
    },
    {
      "cell_type": "code",
      "metadata": {
        "id": "bi5tBTvyGy-f"
      },
      "source": [
        "# First, let's define a function that tests for divisbility\n",
        "\n",
        "    # This will return \"True\" if the number is divisible, or \"False\" if not\n",
        "\n",
        "# For loops as normal"
      ],
      "execution_count": null,
      "outputs": []
    },
    {
      "cell_type": "markdown",
      "metadata": {
        "id": "_gdxw51-INis"
      },
      "source": [
        "Great - we're getting better - we've generalised our functions so they're more reusable as well. Speaking of which, why don't we generalise the whole process to work with any numbers and strings?"
      ]
    },
    {
      "cell_type": "code",
      "metadata": {
        "id": "ElI8X1HEILw0"
      },
      "source": [
        "# Function as before\n",
        "\n",
        "\n",
        "# Here's an example for the kind of expected input - pairs of numbers with\n",
        "# corresponding string output\n",
        "\n",
        "    # Since our list contains pairs, we can unpack them in the for loop!\n",
        "    # This for loop covers all cases where our our input number is divisible\n",
        "\n",
        "    \n",
        "    # Now to handle those that aren't - the loop will only get here if all the\n",
        "    # loop above has failed - so we know the number is not divisible by any of \n",
        "    # the numbers in the mapping. So we just parse the number as a string.\n"
      ],
      "execution_count": null,
      "outputs": []
    },
    {
      "cell_type": "markdown",
      "metadata": {
        "id": "28n5yB_IKAOu"
      },
      "source": [
        "Now we have a generalised function that can work for any mapping:"
      ]
    },
    {
      "cell_type": "code",
      "metadata": {
        "id": "Q-mXB_yZJ_q1"
      },
      "source": [
        "# New mapping with 7 included as Wuzz. Whitespace here is just for readability!\n",
        "# Although we're not checking numbers higher than 100 \n"
      ],
      "execution_count": null,
      "outputs": []
    },
    {
      "cell_type": "markdown",
      "metadata": {
        "id": "3LBT06c5K49Z"
      },
      "source": [
        "Great - we have one problem though - if our mapping isn't written out correctly, we get problems:"
      ]
    },
    {
      "cell_type": "code",
      "metadata": {
        "colab": {
          "base_uri": "https://localhost:8080/"
        },
        "id": "1iK7iqlaK1Vk",
        "outputId": "5c0509de-030e-455b-9875-ce99355dbc67"
      },
      "source": [
        "\n",
        "\n",
        "# Should print \"FizzBuzz\", actually prints \"Buzz\"\n"
      ],
      "execution_count": null,
      "outputs": [
        {
          "output_type": "stream",
          "text": [
            "Buzz\n"
          ],
          "name": "stdout"
        }
      ]
    },
    {
      "cell_type": "markdown",
      "metadata": {
        "id": "pEo4fqoBLNv_"
      },
      "source": [
        "The reason for this goes back to the first example - we need to check our most specific cases first! For this case, it's sufficient to just sort the list by the numbers - we always want 15 to \"fire\" before 5 and 3, and 105 to \"fire\" before 15, 21, and 35 for example. To do this we need to use the `sorted` function, but using a *key* so Python knows which element it's sorting by. The syntax for this is a bit strange so let's take a look"
      ]
    },
    {
      "cell_type": "code",
      "metadata": {
        "id": "vkslO-tDLG07"
      },
      "source": [
        "\n",
        "    \n",
        "    # Overwrite mapping with the sorted mapping\n",
        "    # We first define a function that takes in a list and outputs the first element\n",
        "\n",
        "\n",
        "    # Then we pass this function as the key argument in the sorted function.\n",
        "    # NOTE: We're not calling the function! The actual function is getting passed through\n",
        "    # We also have to set reverse = True to get the list in decending order\n",
        "\n",
        "    \n",
        "    # Let's check the new mapping is correct\n",
        "\n",
        "    # Everything else as before\n"
      ],
      "execution_count": null,
      "outputs": []
    },
    {
      "cell_type": "markdown",
      "metadata": {
        "id": "lyAYqPo4M8rM"
      },
      "source": [
        "Brilliant! We now have a generalised function that works for any FizzBuzz-like problem. We've generalised our code and made it super reusable - and we've done some input validation to make sure most** inputs work.\n",
        "\n",
        "** you can still enter in anything as the mapping argument and the function won't give an error - but doing that's not very interesting or fun so we'll leave that out!"
      ]
    },
    {
      "cell_type": "markdown",
      "metadata": {
        "id": "Y72Nj5azNkTI"
      },
      "source": [
        "## Challenge\n",
        "\n",
        "Now for your challenge - it's similar to the fizz buzz challenge but might require a bit more thinking as to how you'll do it. There's lots of tricks you can use to speed up the program as well!\n",
        "\n",
        "A prime number is a number that is only divisible by 1 and itself (1 is not a prime number). Write a program that prints the sum of the first 100 prime numbers.\n",
        "\n",
        "**Additional challenge**: Same program but for the first million prime numbers"
      ]
    },
    {
      "cell_type": "code",
      "metadata": {
        "id": "ljzqLtm3TYXb"
      },
      "source": [
        ""
      ],
      "execution_count": null,
      "outputs": []
    },
    {
      "cell_type": "markdown",
      "metadata": {
        "id": "J_-fTlEu_Mau"
      },
      "source": [
        "# Python and Prejudice\n",
        "\n",
        "Did you know about the amazing Project Gutenberg - a libary of over 60,000 free eBooks?\n",
        "\n",
        "Here's a link to the 100 most frequently downloaded books.\n",
        "\n",
        "https://www.gutenberg.org/browse/scores/top\n",
        "\n",
        "Check out \"[Pride and Prejudice](https://www.gutenberg.org/files/1342/1342-0.txt)\" by Jane Austen. \n",
        "\n",
        "We can have some fun here I think ... :)\n"
      ]
    },
    {
      "cell_type": "code",
      "metadata": {
        "id": "NnYBHz9sPGxT"
      },
      "source": [
        "# Did you know you can read text files in Python from a URL using the requests package\n"
      ],
      "execution_count": null,
      "outputs": []
    },
    {
      "cell_type": "code",
      "metadata": {
        "id": "gSdQbhilPR7D"
      },
      "source": [
        "# Get the Pride and Prejudice text file from the link above\n"
      ],
      "execution_count": null,
      "outputs": []
    },
    {
      "cell_type": "code",
      "metadata": {
        "id": "bymmcq4-PpeQ"
      },
      "source": [
        "# what does it look like?\n"
      ],
      "execution_count": null,
      "outputs": []
    },
    {
      "cell_type": "code",
      "metadata": {
        "id": "aw5P_-T5P1lp"
      },
      "source": [
        "# OK. Here's the fun bit. Let's create a word cloud for the book.\n",
        "# checkout the article at https://towardsdatascience.com/simple-wordcloud-in-python-2ae54a9f58e5"
      ],
      "execution_count": null,
      "outputs": []
    },
    {
      "cell_type": "code",
      "metadata": {
        "id": "b1bH_WuPQGLI"
      },
      "source": [
        "# Import packages\n",
        "\n",
        "\n",
        "# Define a function to plot word cloud\n"
      ],
      "execution_count": null,
      "outputs": []
    },
    {
      "cell_type": "code",
      "metadata": {
        "id": "73UF0mnCQg7n"
      },
      "source": [
        "# Import package\n",
        "\n",
        "# Generate word cloud\n"
      ],
      "execution_count": null,
      "outputs": []
    },
    {
      "cell_type": "markdown",
      "metadata": {
        "id": "-cl01fWUQ9Sg"
      },
      "source": [
        "## Challenge\n",
        "\n",
        "Wow! Word clouds are great.\n",
        "\n",
        "Create a word cloud using one of the texts from the [Gutenberg Project](https://www.gutenberg.org/browse/scores/top).\n",
        "\n",
        "Post your word clouds on the Padlet and see if people can guess which book it is for.\n",
        "\n",
        "<a href=\"https://padlet.com/hipyliv/vmtszycsl6psd8g9\" target=\"_blank\"><img src=\"data:image/png;base64,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\" alt=\"drawing\" width=\"250\"/></a><br>\n",
        "\n",
        "Click <a href=\"https://padlet.com/hipyliv/vmtszycsl6psd8g9\" target=\"_blank\">here</a> to contribute to the event's Padlet."
      ]
    },
    {
      "cell_type": "markdown",
      "metadata": {
        "id": "qqExTn9sTGds"
      },
      "source": [
        "# Connect 4 Challenge\n",
        "\n",
        "Create an homage to the classic \"Connect 4\" game using Python. \n",
        "\n",
        "The person who submits a the working solution with the FEWEST lines of code to the #connect channel on the HiPy Slack workspace wins this amazing prize ...\n",
        "\n",
        "https://www.amazon.co.uk/Dedimi-Connect-Classic-Original-Gaming/dp/B08LLFJW18/ref=sr_1_5?crid=2NIQ508RM2T56&dchild=1&keywords=connect+4&qid=1606826412&sprefix=connect%2Caps%2C182&sr=8-5\n",
        "\n",
        "Just in time for Christmas!"
      ]
    }
  ]
}